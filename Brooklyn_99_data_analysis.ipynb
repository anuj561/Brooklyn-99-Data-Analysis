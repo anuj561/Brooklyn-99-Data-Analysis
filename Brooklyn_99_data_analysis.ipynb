{
 "cells": [
  {
   "cell_type": "code",
   "execution_count": 12,
   "metadata": {},
   "outputs": [],
   "source": [
    "import pandas as pd\n",
    "import numpy as np\n",
    "import matplotlib.pyplot as plt\n",
    "import seaborn as sns\n",
    "sns.set_style('darkgrid')\n",
    "import datetime"
   ]
  },
  {
   "cell_type": "code",
   "execution_count": 2,
   "metadata": {},
   "outputs": [],
   "source": [
    "df=pd.read_csv('brooklyn99_episodes.csv')"
   ]
  },
  {
   "cell_type": "code",
   "execution_count": 3,
   "metadata": {},
   "outputs": [
    {
     "data": {
      "text/html": [
       "<div>\n",
       "<style scoped>\n",
       "    .dataframe tbody tr th:only-of-type {\n",
       "        vertical-align: middle;\n",
       "    }\n",
       "\n",
       "    .dataframe tbody tr th {\n",
       "        vertical-align: top;\n",
       "    }\n",
       "\n",
       "    .dataframe thead th {\n",
       "        text-align: right;\n",
       "    }\n",
       "</style>\n",
       "<table border=\"1\" class=\"dataframe\">\n",
       "  <thead>\n",
       "    <tr style=\"text-align: right;\">\n",
       "      <th></th>\n",
       "      <th>season</th>\n",
       "      <th>episode_num_in_season</th>\n",
       "      <th>episode_num_overall</th>\n",
       "      <th>title</th>\n",
       "      <th>directed_by</th>\n",
       "      <th>written_by</th>\n",
       "      <th>original_air_date</th>\n",
       "      <th>prod_code</th>\n",
       "      <th>us_viewers</th>\n",
       "    </tr>\n",
       "  </thead>\n",
       "  <tbody>\n",
       "    <tr>\n",
       "      <th>0</th>\n",
       "      <td>1</td>\n",
       "      <td>1</td>\n",
       "      <td>1</td>\n",
       "      <td>Pilot</td>\n",
       "      <td>Phil Lord &amp; Christopher Miller</td>\n",
       "      <td>Dan Goor &amp; Michael Schur</td>\n",
       "      <td>2013-09-17</td>\n",
       "      <td>101.0</td>\n",
       "      <td>6170000.0</td>\n",
       "    </tr>\n",
       "    <tr>\n",
       "      <th>1</th>\n",
       "      <td>1</td>\n",
       "      <td>2</td>\n",
       "      <td>2</td>\n",
       "      <td>The Tagger</td>\n",
       "      <td>Craig Zisk</td>\n",
       "      <td>Norm Hiscock</td>\n",
       "      <td>2013-09-24</td>\n",
       "      <td>102.0</td>\n",
       "      <td>4030000.0</td>\n",
       "    </tr>\n",
       "    <tr>\n",
       "      <th>2</th>\n",
       "      <td>1</td>\n",
       "      <td>3</td>\n",
       "      <td>3</td>\n",
       "      <td>The Slump</td>\n",
       "      <td>Julie Anne Robinson</td>\n",
       "      <td>Prentice Penny</td>\n",
       "      <td>2013-10-01</td>\n",
       "      <td>105.0</td>\n",
       "      <td>3430000.0</td>\n",
       "    </tr>\n",
       "    <tr>\n",
       "      <th>3</th>\n",
       "      <td>1</td>\n",
       "      <td>4</td>\n",
       "      <td>4</td>\n",
       "      <td>M.E. Time</td>\n",
       "      <td>Troy Miller</td>\n",
       "      <td>Gil Ozeri</td>\n",
       "      <td>2013-10-08</td>\n",
       "      <td>106.0</td>\n",
       "      <td>3340000.0</td>\n",
       "    </tr>\n",
       "    <tr>\n",
       "      <th>4</th>\n",
       "      <td>1</td>\n",
       "      <td>5</td>\n",
       "      <td>5</td>\n",
       "      <td>The Vulture</td>\n",
       "      <td>Jason Ensler</td>\n",
       "      <td>Laura McCreary</td>\n",
       "      <td>2013-10-15</td>\n",
       "      <td>104.0</td>\n",
       "      <td>3430000.0</td>\n",
       "    </tr>\n",
       "  </tbody>\n",
       "</table>\n",
       "</div>"
      ],
      "text/plain": [
       "   season  episode_num_in_season  episode_num_overall        title  \\\n",
       "0       1                      1                    1        Pilot   \n",
       "1       1                      2                    2   The Tagger   \n",
       "2       1                      3                    3    The Slump   \n",
       "3       1                      4                    4    M.E. Time   \n",
       "4       1                      5                    5  The Vulture   \n",
       "\n",
       "                      directed_by                written_by original_air_date  \\\n",
       "0  Phil Lord & Christopher Miller  Dan Goor & Michael Schur        2013-09-17   \n",
       "1                      Craig Zisk              Norm Hiscock        2013-09-24   \n",
       "2             Julie Anne Robinson            Prentice Penny        2013-10-01   \n",
       "3                     Troy Miller                 Gil Ozeri        2013-10-08   \n",
       "4                    Jason Ensler            Laura McCreary        2013-10-15   \n",
       "\n",
       "   prod_code  us_viewers  \n",
       "0      101.0   6170000.0  \n",
       "1      102.0   4030000.0  \n",
       "2      105.0   3430000.0  \n",
       "3      106.0   3340000.0  \n",
       "4      104.0   3430000.0  "
      ]
     },
     "execution_count": 3,
     "metadata": {},
     "output_type": "execute_result"
    }
   ],
   "source": [
    "df.head()"
   ]
  },
  {
   "cell_type": "code",
   "execution_count": 4,
   "metadata": {},
   "outputs": [
    {
     "data": {
      "text/html": [
       "<div>\n",
       "<style scoped>\n",
       "    .dataframe tbody tr th:only-of-type {\n",
       "        vertical-align: middle;\n",
       "    }\n",
       "\n",
       "    .dataframe tbody tr th {\n",
       "        vertical-align: top;\n",
       "    }\n",
       "\n",
       "    .dataframe thead th {\n",
       "        text-align: right;\n",
       "    }\n",
       "</style>\n",
       "<table border=\"1\" class=\"dataframe\">\n",
       "  <thead>\n",
       "    <tr style=\"text-align: right;\">\n",
       "      <th></th>\n",
       "      <th>directed_by</th>\n",
       "      <th>us_viewers</th>\n",
       "    </tr>\n",
       "  </thead>\n",
       "  <tbody>\n",
       "    <tr>\n",
       "      <th>38</th>\n",
       "      <td>Michael McDonald</td>\n",
       "      <td>30400000.0</td>\n",
       "    </tr>\n",
       "  </tbody>\n",
       "</table>\n",
       "</div>"
      ],
      "text/plain": [
       "         directed_by  us_viewers\n",
       "38  Michael McDonald  30400000.0"
      ]
     },
     "execution_count": 4,
     "metadata": {},
     "output_type": "execute_result"
    }
   ],
   "source": [
    "df[['directed_by','us_viewers']].groupby(['directed_by']).sum().reset_index().sort_values(['us_viewers'],ascending = False).head(1)"
   ]
  },
  {
   "cell_type": "code",
   "execution_count": 5,
   "metadata": {},
   "outputs": [
    {
     "data": {
      "text/plain": [
       "30400000.0"
      ]
     },
     "execution_count": 5,
     "metadata": {},
     "output_type": "execute_result"
    }
   ],
   "source": [
    "df[df['directed_by']=='Michael McDonald']['us_viewers'].sum()"
   ]
  },
  {
   "cell_type": "code",
   "execution_count": 41,
   "metadata": {
    "scrolled": true
   },
   "outputs": [],
   "source": [
    "temp_df = pd.DataFrame(df['directed_by'].value_counts().head().reset_index().rename(columns={'index':'Director','directed_by':'No. of Episodes directed'}))"
   ]
  },
  {
   "cell_type": "code",
   "execution_count": 92,
   "metadata": {},
   "outputs": [
    {
     "data": {
      "text/plain": [
       "Text(0, 0.5, 'Number of Epoisodes')"
      ]
     },
     "execution_count": 92,
     "metadata": {},
     "output_type": "execute_result"
    },
    {
     "data": {
      "image/png": "[encoded data removed]",
      "text/plain": [
       "<Figure size 936x504 with 1 Axes>"
      ]
     },
     "metadata": {},
     "output_type": "display_data"
    }
   ],
   "source": [
    "plt.rcParams[\"figure.figsize\"] = [13, 7]\n",
    "plt.rcParams[\"figure.autolayout\"] = True\n",
    "plt.bar(temp_df['Director'],temp_df['No. of Episodes directed'],align='center',color=(0.9, 0.2, 0.1, 0.6),edgecolor='k')\n",
    "plt.xticks(rotation=45,size=12)\n",
    "plt.xlabel('Directors',size=25)\n",
    "plt.yticks(size=12)\n",
    "plt.ylabel('Number of Epoisodes',size=25)"
   ]
  },
  {
   "cell_type": "code",
   "execution_count": null,
   "metadata": {},
   "outputs": [],
   "source": []
  },
  {
   "cell_type": "code",
   "execution_count": 32,
   "metadata": {},
   "outputs": [
    {
     "data": {
      "text/plain": [
       "Michael McDonald     12\n",
       "Claire Scanlon       10\n",
       "Linda Mendoza         9\n",
       "Dean Holland          7\n",
       "Tristram Shapeero     5\n",
       "Name: directed_by, dtype: int64"
      ]
     },
     "execution_count": 32,
     "metadata": {},
     "output_type": "execute_result"
    }
   ],
   "source": [
    "df['directed_by'].value_counts().head()"
   ]
  },
  {
   "cell_type": "code",
   "execution_count": 18,
   "metadata": {},
   "outputs": [
    {
     "name": "stdout",
     "output_type": "stream",
     "text": [
      "<class 'pandas.core.frame.DataFrame'>\n",
      "RangeIndex: 153 entries, 0 to 152\n",
      "Data columns (total 9 columns):\n",
      " #   Column                 Non-Null Count  Dtype         \n",
      "---  ------                 --------------  -----         \n",
      " 0   season                 153 non-null    int64         \n",
      " 1   episode_num_in_season  153 non-null    int64         \n",
      " 2   episode_num_overall    153 non-null    int64         \n",
      " 3   title                  153 non-null    object        \n",
      " 4   directed_by            153 non-null    object        \n",
      " 5   written_by             153 non-null    object        \n",
      " 6   original_air_date      153 non-null    datetime64[ns]\n",
      " 7   prod_code              153 non-null    float64       \n",
      " 8   us_viewers             153 non-null    float64       \n",
      "dtypes: datetime64[ns](1), float64(2), int64(3), object(3)\n",
      "memory usage: 10.9+ KB\n"
     ]
    }
   ],
   "source": [
    "df.info()"
   ]
  },
  {
   "cell_type": "code",
   "execution_count": 16,
   "metadata": {},
   "outputs": [],
   "source": [
    "df['original_air_date'] = pd.to_datetime(df['original_air_date'], format='%Y-%m-%d', errors='coerce')"
   ]
  },
  {
   "cell_type": "code",
   "execution_count": 17,
   "metadata": {},
   "outputs": [
    {
     "data": {
      "text/html": [
       "<div>\n",
       "<style scoped>\n",
       "    .dataframe tbody tr th:only-of-type {\n",
       "        vertical-align: middle;\n",
       "    }\n",
       "\n",
       "    .dataframe tbody tr th {\n",
       "        vertical-align: top;\n",
       "    }\n",
       "\n",
       "    .dataframe thead th {\n",
       "        text-align: right;\n",
       "    }\n",
       "</style>\n",
       "<table border=\"1\" class=\"dataframe\">\n",
       "  <thead>\n",
       "    <tr style=\"text-align: right;\">\n",
       "      <th></th>\n",
       "      <th>season</th>\n",
       "      <th>episode_num_in_season</th>\n",
       "      <th>episode_num_overall</th>\n",
       "      <th>title</th>\n",
       "      <th>directed_by</th>\n",
       "      <th>written_by</th>\n",
       "      <th>original_air_date</th>\n",
       "      <th>prod_code</th>\n",
       "      <th>us_viewers</th>\n",
       "    </tr>\n",
       "  </thead>\n",
       "  <tbody>\n",
       "    <tr>\n",
       "      <th>0</th>\n",
       "      <td>1</td>\n",
       "      <td>1</td>\n",
       "      <td>1</td>\n",
       "      <td>Pilot</td>\n",
       "      <td>Phil Lord &amp; Christopher Miller</td>\n",
       "      <td>Dan Goor &amp; Michael Schur</td>\n",
       "      <td>2013-09-17</td>\n",
       "      <td>101.0</td>\n",
       "      <td>6170000.0</td>\n",
       "    </tr>\n",
       "    <tr>\n",
       "      <th>1</th>\n",
       "      <td>1</td>\n",
       "      <td>2</td>\n",
       "      <td>2</td>\n",
       "      <td>The Tagger</td>\n",
       "      <td>Craig Zisk</td>\n",
       "      <td>Norm Hiscock</td>\n",
       "      <td>2013-09-24</td>\n",
       "      <td>102.0</td>\n",
       "      <td>4030000.0</td>\n",
       "    </tr>\n",
       "    <tr>\n",
       "      <th>2</th>\n",
       "      <td>1</td>\n",
       "      <td>3</td>\n",
       "      <td>3</td>\n",
       "      <td>The Slump</td>\n",
       "      <td>Julie Anne Robinson</td>\n",
       "      <td>Prentice Penny</td>\n",
       "      <td>2013-10-01</td>\n",
       "      <td>105.0</td>\n",
       "      <td>3430000.0</td>\n",
       "    </tr>\n",
       "    <tr>\n",
       "      <th>3</th>\n",
       "      <td>1</td>\n",
       "      <td>4</td>\n",
       "      <td>4</td>\n",
       "      <td>M.E. Time</td>\n",
       "      <td>Troy Miller</td>\n",
       "      <td>Gil Ozeri</td>\n",
       "      <td>2013-10-08</td>\n",
       "      <td>106.0</td>\n",
       "      <td>3340000.0</td>\n",
       "    </tr>\n",
       "    <tr>\n",
       "      <th>4</th>\n",
       "      <td>1</td>\n",
       "      <td>5</td>\n",
       "      <td>5</td>\n",
       "      <td>The Vulture</td>\n",
       "      <td>Jason Ensler</td>\n",
       "      <td>Laura McCreary</td>\n",
       "      <td>2013-10-15</td>\n",
       "      <td>104.0</td>\n",
       "      <td>3430000.0</td>\n",
       "    </tr>\n",
       "  </tbody>\n",
       "</table>\n",
       "</div>"
      ],
      "text/plain": [
       "   season  episode_num_in_season  episode_num_overall        title  \\\n",
       "0       1                      1                    1        Pilot   \n",
       "1       1                      2                    2   The Tagger   \n",
       "2       1                      3                    3    The Slump   \n",
       "3       1                      4                    4    M.E. Time   \n",
       "4       1                      5                    5  The Vulture   \n",
       "\n",
       "                      directed_by                written_by original_air_date  \\\n",
       "0  Phil Lord & Christopher Miller  Dan Goor & Michael Schur        2013-09-17   \n",
       "1                      Craig Zisk              Norm Hiscock        2013-09-24   \n",
       "2             Julie Anne Robinson            Prentice Penny        2013-10-01   \n",
       "3                     Troy Miller                 Gil Ozeri        2013-10-08   \n",
       "4                    Jason Ensler            Laura McCreary        2013-10-15   \n",
       "\n",
       "   prod_code  us_viewers  \n",
       "0      101.0   6170000.0  \n",
       "1      102.0   4030000.0  \n",
       "2      105.0   3430000.0  \n",
       "3      106.0   3340000.0  \n",
       "4      104.0   3430000.0  "
      ]
     },
     "execution_count": 17,
     "metadata": {},
     "output_type": "execute_result"
    }
   ],
   "source": []
  },
  {
   "cell_type": "code",
   "execution_count": 27,
   "metadata": {},
   "outputs": [
    {
     "data": {
      "text/plain": [
       "[<matplotlib.lines.Line2D at 0x21bf8b6f790>,\n",
       " <matplotlib.lines.Line2D at 0x21bf8b6f850>]"
      ]
     },
     "execution_count": 27,
     "metadata": {},
     "output_type": "execute_result"
    },
    {
     "data": {
      "image/png": "[encoded data removed]",
      "text/plain": [
       "<Figure size 540x252 with 1 Axes>"
      ]
     },
     "metadata": {},
     "output_type": "display_data"
    }
   ],
   "source": [
    "plt.rcParams[\"figure.figsize\"] = [7.50, 3.50]\n",
    "plt.rcParams[\"figure.autolayout\"] = True\n",
    "plt.plot(df[['episode_num_overall','us_viewers']])"
   ]
  },
  {
   "cell_type": "code",
   "execution_count": null,
   "metadata": {},
   "outputs": [],
   "source": []
  },
  {
   "cell_type": "code",
   "execution_count": null,
   "metadata": {},
   "outputs": [],
   "source": []
  }
 ],
 "metadata": {
  "kernelspec": {
   "display_name": "Python 3",
   "language": "python",
   "name": "python3"
  },
  "language_info": {
   "codemirror_mode": {
    "name": "ipython",
    "version": 3
   },
   "file_extension": ".py",
   "mimetype": "text/x-python",
   "name": "python",
   "nbconvert_exporter": "python",
   "pygments_lexer": "ipython3",
   "version": "3.8.3"
  }
 },
 "nbformat": 4,
 "nbformat_minor": 4
}
